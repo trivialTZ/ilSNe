{
 "cells": [
  {
   "cell_type": "markdown",
   "id": "9e7c3776",
   "metadata": {},
   "source": [
    "\n",
    "# ilSNe MST Demo — standardized magnification → λ, and stacking\n",
    "\n",
    "This notebook demonstrates the current capabilities of the `ilsne` package:\n",
    "- **Pivoted SN model**: work in terms of an apparent magnitude at a **pivot redshift** (H0-free).\n",
    "- **Per-lens λ inference**: analytic marginalization over the pivot magnitude `m_p` with a Gaussian prior (e.g., Pantheon+).\n",
    "- **Microlensing scatter models**: constant, radius-dependent, or CSV profile; propagate into the likelihood.\n",
    "- **Stacking**: combine multiple lens posteriors.\n",
    "- **Sensitivity sweeps**: explore the impact of microlensing assumptions on λ constraints.\n",
    "\n",
    "**Science context (from WFS 1.1.3–1.1.4):** standardized magnification with SNe Ia **breaks the mass-sheet degeneracy (MSD)** and, when combined with **time-delay distances** from slSNe, enables a **~1% H0** measurement for Roman HLTDS-scale yields.\n"
   ]
  },
  {
   "cell_type": "markdown",
   "id": "4d522c5e",
   "metadata": {},
   "source": [
    "\n",
    "## 0) Setup\n",
    "\n",
    "Run the following cell to import `ilsne`. If you're running this from the repo, it will add the repo path automatically.\n"
   ]
  },
  {
   "cell_type": "code",
   "execution_count": null,
   "id": "53e5a8be",
   "metadata": {},
   "outputs": [
    {
     "name": "stdout",
     "output_type": "stream",
     "text": [
      "slsim import OK (using 0.1.0 )\n",
      "ilsne version: local\n",
      "ilsne path: /Users/tztang/Documents/GitHub/ilSNe/src/ilsne/__init__.py\n"
     ]
    },
    {
     "name": "stderr",
     "output_type": "stream",
     "text": [
      "/Users/tztang/Documents/GitHub/ilSNe/src/ilsne/slsim_glue.py:83: SyntaxWarning: invalid escape sequence '\\s'\n",
      "  Pivot magnitude prior :math:`m_p \\sim \\mathcal{N}(\\mu,\\sigma)` [mag].\n"
     ]
    }
   ],
   "source": [
    "\n",
    "import sys, os, importlib, pathlib\n",
    "repo_root_guess = pathlib.Path.cwd()\n",
    "\n",
    "candidates = [\n",
    "    repo_root_guess,\n",
    "    repo_root_guess / \"src\",\n",
    "    repo_root_guess.parent,\n",
    "    repo_root_guess.parent / \"src\",\n",
    "    pathlib.Path(\"src\"),\n",
    "]\n",
    "\n",
    "slsim_candidates = [\n",
    "    pathlib.Path.cwd() / \"slsim-main\",\n",
    "    pathlib.Path.cwd().parent / \"slsim-main\",\n",
    "    pathlib.Path(\"data/slsim_repo\") / \"slsim-main\",\n",
    "]\n",
    "for sp in slsim_candidates:\n",
    "    if (sp / \"slsim\" / \"__init__.py\").exists():\n",
    "        sys.path.insert(0, str(sp))\n",
    "\n",
    "try:\n",
    "    import slsim  # noqa: F401\n",
    "    print(\"slsim import OK (using\", getattr(slsim, \"__version__\", \"local\"), \")\")\n",
    "except Exception as e:\n",
    "    print(\"slsim not importable here:\", e, \"-- If running locally, install or add path to slsim.\")\n",
    "\n",
    "for p in candidates:\n",
    "    try_path = p / \"ilsne\" / \"__init__.py\"\n",
    "    if try_path.exists():\n",
    "        sys.path.insert(0, str(p))\n",
    "        break\n",
    "\n",
    "import numpy as np\n",
    "import pandas as pd\n",
    "import matplotlib.pyplot as plt\n",
    "from typing import Tuple, List\n",
    "\n",
    "# NumPy compatibility: ilsne uses np.trapezoid; patch if missing (old NumPy)\n",
    "if not hasattr(np, \"trapezoid\"):\n",
    "    np.trapezoid = np.trapz  # type: ignore[attr-defined]\n",
    "\n",
    "import ilsne\n",
    "from ilsne.pivot import FlatLCDM, m_sn_from_pivot, predict_unlensed_mag\n",
    "from ilsne.magnification import LensedSN, LensDataset, infer_lambda_for_lens\n",
    "from ilsne.io import lens_from_dataframe\n",
    "from ilsne.microlens import sigma_micro_constant, sigma_micro_parametric, load_sigma_micro_from_csv\n",
    "from ilsne.stacking import product_stack_common_lambda\n",
    "from ilsne.viz import plot_lambda_posterior\n",
    "from ilsne.slsim_yields import SurveyConfig, synthesize_yields\n",
    "from ilsne.roman_interface import load_hltds_stub, to_survey_config\n",
    "\n",
    "print(\"ilsne version:\", getattr(ilsne, \"__version__\", \"local\"))\n",
    "try:\n",
    "    print(\"ilsne path:\", ilsne.__file__)\n",
    "except Exception:\n",
    "    pass\n",
    "\n",
    "# Optional: live Pantheon+ pivot via hierArc\n",
    "mp_from_hierarc = None\n",
    "try:\n",
    "    from ilsne.hierarc_glue import PantheonPivotBlock\n",
    "    mp_from_hierarc = PantheonPivotBlock\n",
    "except Exception:\n",
    "    mp_from_hierarc = None\n",
    "\n",
    "try:\n",
    "    from tqdm.auto import tqdm\n",
    "except Exception:\n",
    "    def tqdm(x, **k): return x\n",
    "\n",
    "RNG_SEED = 42\n",
    "np.random.seed(RNG_SEED)\n"
   ]
  },
  {
   "cell_type": "markdown",
   "id": "7e84e13a",
   "metadata": {},
   "source": [
    "\n",
    "## 1) Cosmology, pivot, and prior for `m_p`\n",
    "\n",
    "We **anchor** the absolute scale in an apparent magnitude at a chosen pivot redshift `z_pivot`:\n",
    "\\[\n",
    "m_{\\rm th}(z) = m_p + [\\mu(z) - \\mu(z_{\\rm pivot})] .\n",
    "\\]\n",
    "\n",
    "For this demo we assume a Pantheon+-like **Gaussian prior** on `m_p` with mean `mp_mean` and width `mp_sigma` (mag).\n"
   ]
  },
  {
   "cell_type": "code",
   "execution_count": null,
   "id": "707889b1",
   "metadata": {},
   "outputs": [
    {
     "name": "stdout",
     "output_type": "stream",
     "text": [
      "Using Pantheon+ mp prior: 18.954 +/- 0.004 at z=0.1\n"
     ]
    }
   ],
   "source": [
    "\n",
    "cosmo = FlatLCDM(H0=70.0, Omega_m=0.3)\n",
    "z_pivot = 0.1\n",
    "\n",
    "def get_mp_prior(z_anchor: float) -> Tuple[float, float]:\n",
    "    \"\"\"\n",
    "    Get (mp_mean, mp_sigma). Try hierArc Pantheon+ first; else fall back\n",
    "    to an indicative Pantheon-like value.\n",
    "    \"\"\"\n",
    "    if mp_from_hierarc is not None:\n",
    "        try:\n",
    "            block = mp_from_hierarc(z_anchor=z_anchor)\n",
    "            mu, sig = block.fit_pivot_mean_std()\n",
    "            print(f\"Using Pantheon+ mp prior: {mu:.3f} +/- {sig:.3f} at z={z_anchor}\")\n",
    "            return float(mu), float(sig)\n",
    "        except Exception as e:\n",
    "            print(\"[warn] hierArc pivot prior failed; falling back:\", e)\n",
    "    return 18.966, 0.008\n",
    "\n",
    "mp_mean, mp_sigma = get_mp_prior(z_pivot)\n"
   ]
  },
  {
   "cell_type": "markdown",
   "id": "5535de38",
   "metadata": {},
   "source": [
    "\n",
    "### 2) Build yields with **SLSim** (or ilsne's adapter fallback)\n",
    "\n",
    "We use the Roman helper to get a cadence → `SurveyConfig`, then call\n",
    "`ilsne.slsim_yields.synthesize_yields`. This will use a **native SLSim hook**\n",
    "if available (preferred), else fall back to the in-repo adapter.\n",
    "\n",
    "We then **explicitly set** a microlensing model per scenario to ensure the\n",
    "two cases differ, and we **avoid double-counting** by folding σ_micro into\n",
    "`sigma_m` when passing to the likelihood.\n"
   ]
  },
  {
   "cell_type": "code",
   "execution_count": 3,
   "id": "70496572",
   "metadata": {},
   "outputs": [
    {
     "name": "stdout",
     "output_type": "stream",
     "text": [
      "blue df columns: ['R_arcsec', 'filters_hit', 'gamma1_ext', 'gamma2_ext', 'gamma_macro', 'image_id', 'is_il', 'is_sl', 'kappa_ext', 'kappa_macro'] … n= 600\n",
      "orange df columns: ['R_arcsec', 'filters_hit', 'gamma1_ext', 'gamma2_ext', 'gamma_macro', 'image_id', 'is_il', 'is_sl', 'kappa_ext', 'kappa_macro'] … n= 600\n"
     ]
    }
   ],
   "source": [
    "\n",
    "# Roman-like cadence → SurveyConfig\n",
    "cad = load_hltds_stub()\n",
    "survey = to_survey_config(cad)  # SurveyConfig(name, epochs, days_between, depths)\n",
    "# Optional LOS config for native SLSim (ignored by fallback adapter)\n",
    "survey.slsim = {\"los\": {\"enable\": True, \"nonlinear\": True, \"nonlinear_h5\": \"data/joint_distributions_sigma8_0.825.h5\"}}\n",
    "\n",
    "# Define two microlensing scenarios:\n",
    "#   Scenario A (blue): constant microlensing scatter\n",
    "micro_const = {\"kind\": \"const\", \"sigma\": 0.02}          # 0.02 mag\n",
    "#   Scenario B (orange): radial-dependent microlensing scatter\n",
    "micro_rdep  = {\"kind\": \"rdep\", \"a\": 0.01, \"b\": 0.02}    # σ_micro = a + b * R_arcsec\n",
    "\n",
    "def build_il_catalog(n_sn: int,\n",
    "                     survey_cfg: SurveyConfig,\n",
    "                     micro_model: dict,\n",
    "                     seed: int = RNG_SEED) -> pd.DataFrame:\n",
    "    \"\"\"\n",
    "    Build a standardized ilSN catalog using synthesize_yields (SLSim-backed if available).\n",
    "\n",
    "    IMPORTANT:\n",
    "    - We override σ_micro per the provided `micro_model` so the two scenarios\n",
    "      (const vs R-dependent) are actually different.\n",
    "    - We keep only `is_il` rows (single-image, intermediate-lensed SNe).\n",
    "    \"\"\"\n",
    "    # Use synthesize_yields — this will call SLSim hook if available\n",
    "    df = synthesize_yields(\n",
    "        n_sn=n_sn, survey=survey_cfg, cosmo=cosmo,\n",
    "        z_pivot=z_pivot, mp_mean=mp_mean, mp_sigma=mp_sigma,\n",
    "        sigma_int=0.10, sigma_model=0.05, seed=seed, verbose=False,\n",
    "    )\n",
    "\n",
    "    # Keep only intermediate-lensed SNe\n",
    "    if \"is_il\" in df.columns:\n",
    "        df = df[df[\"is_il\"]].copy()\n",
    "\n",
    "    # Explicit microlensing assignment per scenario\n",
    "    if micro_model.get(\"kind\", \"const\") == \"const\":\n",
    "        sig = float(micro_model.get(\"sigma\", 0.0))\n",
    "        df[\"sigma_micro_mag\"] = sig\n",
    "    else:\n",
    "        a = float(micro_model.get(\"a\", 0.01))\n",
    "        b = float(micro_model.get(\"b\", 0.02))\n",
    "        # Ensure R_arcsec exists\n",
    "        if \"R_arcsec\" not in df.columns:\n",
    "            raise ValueError(\"Catalog missing R_arcsec for radial microlensing model.\")\n",
    "        df[\"sigma_micro_mag\"] = a + b * df[\"R_arcsec\"].values\n",
    "\n",
    "    # Sanity check for required columns (from ilsne schema)\n",
    "    need_cols = [\"z_sn\",\"R_arcsec\",\"mu_fid\",\"m_obs\",\"sigma_int_mag\",\"sigma_model_mag\",\"sigma_micro_mag\"]\n",
    "    missing = [c for c in need_cols if c not in df.columns]\n",
    "    if missing:\n",
    "        raise ValueError(f\"Catalog missing columns: {missing}\")\n",
    "    return df.reset_index(drop=True)\n",
    "\n",
    "# Generate larger catalogs once; later we slice the first N rows\n",
    "N_DRAW = 600\n",
    "df_blue = build_il_catalog(N_DRAW, survey, micro_const, seed=123)\n",
    "df_orng = build_il_catalog(N_DRAW, survey, micro_rdep,  seed=456)\n",
    "\n",
    "print(\"blue df columns:\", sorted(df_blue.columns)[:10], \"… n=\", len(df_blue))\n",
    "print(\"orange df columns:\", sorted(df_orng.columns)[:10], \"… n=\", len(df_orng))\n"
   ]
  },
  {
   "cell_type": "markdown",
   "id": "e33553cf",
   "metadata": {},
   "source": [
    "\n",
    "### 3) Convert a catalog slice to a single-lens dataset with N ilSN\n",
    "\n",
    "We **combine** uncertainties in quadrature to form `sigma_m`, **including**\n",
    "σ_micro here. In the likelihood we set `sigma_micro_included_in_sigma_m=True`\n",
    "and `sigma_int=0.0` to avoid double-counting.\n"
   ]
  },
  {
   "cell_type": "code",
   "execution_count": 4,
   "id": "61ad2192",
   "metadata": {},
   "outputs": [],
   "source": [
    "\n",
    "def lens_from_df_slice(df_slice: pd.DataFrame, name: str) -> LensDataset:\n",
    "    sne: List[LensedSN] = []\n",
    "    for _, row in df_slice.iterrows():\n",
    "        sigma_m = float(np.sqrt(\n",
    "            float(row.get(\"sigma_int_mag\", 0.0))**2 +\n",
    "            float(row.get(\"sigma_model_mag\", 0.0))**2 +\n",
    "            float(row.get(\"sigma_micro_mag\", 0.0))**2\n",
    "        ))\n",
    "        sne.append(\n",
    "            LensedSN(\n",
    "                z=float(row[\"z_sn\"]),\n",
    "                mu_model=float(row.get(\"mu_model\", row[\"mu_fid\"])),\n",
    "                m_obs=float(row[\"m_obs\"]),\n",
    "                sigma_m=sigma_m,\n",
    "                R_arcsec=float(row[\"R_arcsec\"]),\n",
    "            )\n",
    "        )\n",
    "    return LensDataset(name=name, sne=sne)\n"
   ]
  },
  {
   "cell_type": "markdown",
   "id": "6dc584ba",
   "metadata": {},
   "source": [
    "\n",
    "### 4) Scan N and compute fractional λ precision σ(λ)/⟨λ⟩\n",
    "\n",
    "(This is a proxy for how many ilSN we need to bring MSD under control.)\n",
    "We avoid σ_micro double counting by setting `sigma_micro_included_in_sigma_m=True`.\n"
   ]
  },
  {
   "cell_type": "code",
   "execution_count": 5,
   "id": "391651ca",
   "metadata": {},
   "outputs": [
    {
     "data": {
      "application/vnd.jupyter.widget-view+json": {
       "model_id": "2143e753659a4fc3b85816cd001bf6c1",
       "version_major": 2,
       "version_minor": 0
      },
      "text/plain": [
       "blue-const: sweeping N:   0%|          | 0/14 [00:00<?, ?N/s]"
      ]
     },
     "metadata": {},
     "output_type": "display_data"
    },
    {
     "data": {
      "application/vnd.jupyter.widget-view+json": {
       "model_id": "6217ed68ecb54986919f86ca1d4e0520",
       "version_major": 2,
       "version_minor": 0
      },
      "text/plain": [
       "orange-rdep: sweeping N:   0%|          | 0/14 [00:00<?, ?N/s]"
      ]
     },
     "metadata": {},
     "output_type": "display_data"
    },
    {
     "data": {
      "image/png": "[encoded data removed]",
      "text/plain": [
       "<Figure size 938x602 with 1 Axes>"
      ]
     },
     "metadata": {},
     "output_type": "display_data"
    },
    {
     "name": "stdout",
     "output_type": "stream",
     "text": [
      "[result] N_1% (const micro): 32\n",
      "[result] N_1% (radial micro): 48\n"
     ]
    }
   ],
   "source": [
    "\n",
    "scan_N = [1, 2, 3, 5, 8, 12, 16, 24, 32, 48, 64, 96, 128, 160]\n",
    "\n",
    "def frac_sigma_lambda_vs_N(df: pd.DataFrame, label: str) -> Tuple[np.ndarray, np.ndarray, List[dict]]:\n",
    "    xs, ys, posts = [], [], []\n",
    "    for N in tqdm(scan_N, desc=f\"{label}: sweeping N\", unit=\"N\"):\n",
    "        sub = df.iloc[:N].copy()\n",
    "        lens = lens_from_df_slice(sub, f\"{label}-N{N}\")\n",
    "        res = infer_lambda_for_lens(\n",
    "            lens,\n",
    "            cosmo=cosmo,\n",
    "            z_pivot=z_pivot,\n",
    "            mp_mean=mp_mean,\n",
    "            mp_sigma=mp_sigma,\n",
    "            lam_grid=(0.6, 1.4, 2001),\n",
    "            sigma_micro_fn=None,\n",
    "            sigma_int=0.0,\n",
    "            sigma_micro_included_in_sigma_m=True,\n",
    "        )\n",
    "        xs.append(N)\n",
    "        ys.append(res[\"lam_std\"] / res[\"lam_mean\"])\n",
    "        posts.append(res)\n",
    "    return np.array(xs), np.array(ys), posts\n",
    "\n",
    "x_b, y_b, posts_b = frac_sigma_lambda_vs_N(df_blue, \"blue-const\")\n",
    "x_o, y_o, posts_o = frac_sigma_lambda_vs_N(df_orng, \"orange-rdep\")\n",
    "\n",
    "plt.figure(figsize=(6.7, 4.3), dpi=140)\n",
    "plt.plot(x_b, y_b, marker=\"o\", label=\"constant microlensing (blue)\")\n",
    "plt.plot(x_o, y_o, marker=\"s\", label=\"radial microlensing (orange)\")\n",
    "plt.axhline(0.01, linestyle=\"--\", label=\"1% target\")\n",
    "plt.xscale(\"log\"); plt.yscale(\"log\")\n",
    "plt.xlabel(\"Number of ilSN (N)\")\n",
    "plt.ylabel(\"≈ σ(λ)/⟨λ⟩   (MSD scale precision)\")\n",
    "plt.title(\"How many ilSN do we need for <1% on λ?\")\n",
    "plt.legend(); plt.tight_layout(); plt.show()\n",
    "\n",
    "def min_N_for_target(xs, ys, thr=0.01):\n",
    "    ok = [int(x) for x, y in zip(xs, ys) if y <= thr]\n",
    "    return min(ok) if ok else None\n",
    "\n",
    "print(\"[result] N_1% (const micro):\",  min_N_for_target(x_b, y_b, 0.01))\n",
    "print(\"[result] N_1% (radial micro):\", min_N_for_target(x_o, y_o, 0.01))\n"
   ]
  },
  {
   "cell_type": "markdown",
   "id": "c8c1f242",
   "metadata": {},
   "source": [
    "\n",
    "### 5) Common-λ stacking (existing) vs. hierarchical-λ (optional)\n",
    "\n",
    "We preserve your simple Gaussian approx summaries and EB shrinkage as an optional comparison.\n"
   ]
  },
  {
   "cell_type": "code",
   "execution_count": 6,
   "id": "fa1d65f5",
   "metadata": {},
   "outputs": [
    {
     "data": {
      "application/vnd.jupyter.widget-view+json": {
       "model_id": "2f7652c771934a48bb7f587f0d1383c3",
       "version_major": 2,
       "version_minor": 0
      },
      "text/plain": [
       "Summaries from catalog:   0%|          | 0/37 [00:00<?, ?chunk/s]"
      ]
     },
     "metadata": {},
     "output_type": "display_data"
    },
    {
     "data": {
      "application/vnd.jupyter.widget-view+json": {
       "model_id": "1eec466f0d69486aa082174365edcc76",
       "version_major": 2,
       "version_minor": 0
      },
      "text/plain": [
       "Summaries from catalog:   0%|          | 0/37 [00:00<?, ?chunk/s]"
      ]
     },
     "metadata": {},
     "output_type": "display_data"
    },
    {
     "data": {
      "application/vnd.jupyter.widget-view+json": {
       "model_id": "096c7345439644b89ecf025dd4dcd333",
       "version_major": 2,
       "version_minor": 0
      },
      "text/plain": [
       "Hierarchical λ iterations:   0%|          | 0/200 [00:00<?, ?iter/s]"
      ]
     },
     "metadata": {},
     "output_type": "display_data"
    },
    {
     "data": {
      "application/vnd.jupyter.widget-view+json": {
       "model_id": "d13ac789c74a451bad6f6cffb0d7e025",
       "version_major": 2,
       "version_minor": 0
      },
      "text/plain": [
       "Hierarchical λ iterations:   0%|          | 0/200 [00:00<?, ?iter/s]"
      ]
     },
     "metadata": {},
     "output_type": "display_data"
    },
    {
     "name": "stdout",
     "output_type": "stream",
     "text": [
      "[hier] const micro:   mu_lambda=1.00038  sigma_mu=0.00242  tau=0.00652\n",
      "[hier] radial micro:  mu_lambda=0.99716  sigma_mu=0.00248  tau=0.00000\n"
     ]
    }
   ],
   "source": [
    "\n",
    "import math\n",
    "import numpy as np\n",
    "\n",
    "def hierarchical_lambda_summary(means: np.ndarray, stds: np.ndarray, max_iter: int = 200, tol: float = 1e-8):\n",
    "    s2 = stds**2\n",
    "    tau2 = max(0.0, float(np.var(means) - np.mean(s2)))\n",
    "    for _ in tqdm(range(max_iter), desc=\"Hierarchical λ iterations\", unit=\"iter\"):\n",
    "        w = 1.0 / (s2 + tau2 + 1e-30)\n",
    "        mu = np.sum(w * means) / np.sum(w)\n",
    "        numer = max(0.0, np.sum(w * (means - mu)**2) / np.sum(w) - np.sum(w * s2) / np.sum(w))\n",
    "        new_tau2 = max(0.0, numer)\n",
    "        if abs(new_tau2 - tau2) < tol * (1.0 + tau2):\n",
    "            tau2 = new_tau2\n",
    "            break\n",
    "        tau2 = new_tau2\n",
    "    mu_var = 1.0 / np.sum(1.0 / (s2 + tau2 + 1e-30))\n",
    "    return dict(mu_lambda=mu, sigma_mu=math.sqrt(mu_var), tau=math.sqrt(tau2))\n",
    "\n",
    "def summaries_from_catalog(df: pd.DataFrame, chunk: int) -> Tuple[np.ndarray, np.ndarray]:\n",
    "    means, stds = [], []\n",
    "    K = len(df) // chunk\n",
    "    for k in tqdm(range(K), desc=\"Summaries from catalog\", unit=\"chunk\"):\n",
    "        sub = df.iloc[k*chunk:(k+1)*chunk]\n",
    "        post = infer_lambda_for_lens(\n",
    "            lens_from_df_slice(sub, f\"lens-{k}\"),\n",
    "            cosmo=cosmo,\n",
    "            z_pivot=z_pivot,\n",
    "            mp_mean=mp_mean,\n",
    "            mp_sigma=mp_sigma,\n",
    "            lam_grid=(0.6, 1.4, 1601),\n",
    "            sigma_micro_fn=None,\n",
    "            sigma_int=0.0,\n",
    "            sigma_micro_included_in_sigma_m=True,\n",
    "        )\n",
    "        means.append(post[\"lam_mean\"])\n",
    "        stds.append(post[\"lam_std\"])\n",
    "    return np.array(means), np.array(stds)\n",
    "\n",
    "chunkN = 16\n",
    "m_b, s_b = summaries_from_catalog(df_blue, chunk=chunkN)\n",
    "m_o, s_o = summaries_from_catalog(df_orng, chunk=chunkN)\n",
    "hier_b = hierarchical_lambda_summary(m_b, s_b)\n",
    "hier_o = hierarchical_lambda_summary(m_o, s_o)\n",
    "print(\"[hier] const micro:   mu_lambda=%.5f  sigma_mu=%.5f  tau=%.5f\" % (hier_b[\"mu_lambda\"], hier_b[\"sigma_mu\"], hier_b[\"tau\"]))\n",
    "print(\"[hier] radial micro:  mu_lambda=%.5f  sigma_mu=%.5f  tau=%.5f\" % (hier_o[\"mu_lambda\"], hier_o[\"sigma_mu\"], hier_o[\"tau\"]))\n"
   ]
  },
  {
   "cell_type": "markdown",
   "id": "ca321c35",
   "metadata": {},
   "source": [
    "\n",
    "### 6) Optional: LOS κ_ext marginalization (fallback if SLSim LOS not present)\n",
    "\n",
    "We push the λ posterior through λ_eff = λ / (1 − κ_ext). If SLSim LOS is\n",
    "unavailable, we fall back to **N(0, 0.025)**.\n"
   ]
  },
  {
   "cell_type": "code",
   "execution_count": 7,
   "id": "77feac60",
   "metadata": {},
   "outputs": [],
   "source": [
    "# Use ilsne's first-class LOS APIs (no notebook glue)\n",
    "from ilsne import posterior_lambda_intrinsic_from_total, sample_kappa_ext\n",
    "\n",
    "# Optional: path to SLSim nonlinear LOS correction table.\n",
    "NONLINEAR_H5 = \"data/joint_distributions_sigma8_0.825.h5\"\n",
    "\n",
    "# Optionally estimate σ_κ from the catalog if provided; else use a conservative floor.\n",
    "def estimate_sigma_kext(df: pd.DataFrame) -> float:\n",
    "    if \"kappa_ext\" in df.columns:\n",
    "        vals = np.asarray(df[\"kappa_ext\"], float)\n",
    "        s = float(np.nanstd(vals))\n",
    "        if np.isfinite(s) and s > 1e-6:\n",
    "            return s\n",
    "    return 0.025\n"
   ]
  },
  {
   "cell_type": "code",
   "execution_count": 8,
   "id": "839856dd",
   "metadata": {},
   "outputs": [
    {
     "name": "stdout",
     "output_type": "stream",
     "text": [
      "[λ_tot] blue N=32:   lam=0.99128 ± 0.00933\n",
      "[λ_tot] orange N=32: lam=0.99545 ± 0.01044\n",
      "[λ_int] blue N=32:   lam=0.99214 ± 0.02676  (from λ_tot + κ_ext)\n",
      "[λ_int] orange N=32: lam=0.99646 ± 0.02714  (from λ_tot + κ_ext)\n"
     ]
    }
   ],
   "source": [
    "def choose_post_by_N(posts: List[dict], N: int) -> dict:\n",
    "    idx = scan_N.index(N)\n",
    "    return posts[idx]\n",
    "\n",
    "# Choose the posteriors (unchanged)\n",
    "post32_b = choose_post_by_N(posts_b, 32)   # \"blue\" micro model\n",
    "post32_o = choose_post_by_N(posts_o, 32)   # \"orange\" micro model\n",
    "\n",
    "z_l_32 = 0.4\n",
    "z_s_32 = 0.9\n",
    "\n",
    "# (A) If you want λ_tot (recommended for stacking): keep per-lens posteriors as-is\n",
    "#     and only apply the τ-floor in your hierarchical combo later.\n",
    "print(\"[λ_tot] blue N=32:   lam=%.5f ± %.5f\" % (post32_b[\"lam_mean\"], post32_b[\"lam_std\"]))\n",
    "print(\"[λ_tot] orange N=32: lam=%.5f ± %.5f\" % (post32_o[\"lam_mean\"], post32_o[\"lam_std\"]))\n",
    "\n",
    "# (B) If you explicitly want λ_int for a demonstration, map λ_tot → λ_int via ilsne.los_posterior:\n",
    "sig_k_b = estimate_sigma_kext(df_blue)\n",
    "sig_k_o = estimate_sigma_kext(df_orng)\n",
    "lam_b, pdf_b = posterior_lambda_intrinsic_from_total(\n",
    "    post32_b[\"lam_grid\"], post32_b[\"posterior\"], z_l=z_l_32, z_s=z_s_32,\n",
    "    nsamp=4000, sigma_kext=sig_k_b, nonlinear_h5=NONLINEAR_H5\n",
    ")\n",
    "lam_o, pdf_o = posterior_lambda_intrinsic_from_total(\n",
    "    post32_o[\"lam_grid\"], post32_o[\"posterior\"], z_l=z_l_32, z_s=z_s_32,\n",
    "    nsamp=4000, sigma_kext=sig_k_o, nonlinear_h5=NONLINEAR_H5\n",
    ")\n",
    "\n",
    "mean_b = float(np.trapezoid(lam_b * pdf_b, lam_b)); std_b = float(np.sqrt(np.trapezoid((lam_b - mean_b)**2 * pdf_b, lam_b)))\n",
    "mean_o = float(np.trapezoid(lam_o * pdf_o, lam_o)); std_o = float(np.sqrt(np.trapezoid((lam_o - mean_o)**2 * pdf_o, lam_o)))\n",
    "\n",
    "print(\"[λ_int] blue N=32:   lam=%.5f ± %.5f  (from λ_tot + κ_ext)\" % (mean_b, std_b))\n",
    "print(\"[λ_int] orange N=32: lam=%.5f ± %.5f  (from λ_tot + κ_ext)\" % (mean_o, std_o))\n"
   ]
  }
 ],
 "metadata": {
  "kernelspec": {
   "display_name": ".ilsne_env",
   "language": "python",
   "name": "python3"
  },
  "language_info": {
   "codemirror_mode": {
    "name": "ipython",
    "version": 3
   },
   "file_extension": ".py",
   "mimetype": "text/x-python",
   "name": "python",
   "nbconvert_exporter": "python",
   "pygments_lexer": "ipython3",
   "version": "3.13.7"
  }
 },
 "nbformat": 4,
 "nbformat_minor": 5
}
